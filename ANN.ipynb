{
  "nbformat": 4,
  "nbformat_minor": 0,
  "metadata": {
    "colab": {
      "name": "ANN.ipynb",
      "provenance": [],
      "collapsed_sections": [],
      "authorship_tag": "ABX9TyNrNUnM0mDkoYnS6Wx8TbyZ",
      "include_colab_link": true
    },
    "kernelspec": {
      "display_name": "Python 3",
      "name": "python3"
    },
    "language_info": {
      "name": "python"
    }
  },
  "cells": [
    {
      "cell_type": "markdown",
      "metadata": {
        "id": "view-in-github",
        "colab_type": "text"
      },
      "source": [
        "<a href=\"https://colab.research.google.com/github/SusanGicheha/AI-ML-Group-Task/blob/main/ANN.ipynb\" target=\"_parent\"><img src=\"https://colab.research.google.com/assets/colab-badge.svg\" alt=\"Open In Colab\"/></a>"
      ]
    },
    {
      "cell_type": "code",
      "metadata": {
        "id": "HmkP6EcONYEi"
      },
      "source": [
        "import pandas as pd\n",
        "import numpy as np "
      ],
      "execution_count": null,
      "outputs": []
    },
    {
      "cell_type": "code",
      "metadata": {
        "id": "SJUgdY8eOKxu"
      },
      "source": [
        "from numpy import array\n",
        "from sklearn.preprocessing import Normalizer\n",
        "from keras.activations import sigmoid\n",
        "from keras.losses import mse \n",
        "from numpy.random import uniform,normal"
      ],
      "execution_count": null,
      "outputs": []
    },
    {
      "cell_type": "code",
      "metadata": {
        "id": "dYUC8pTHDBaL"
      },
      "source": [
        "batch_size=6"
      ],
      "execution_count": null,
      "outputs": []
    },
    {
      "cell_type": "code",
      "metadata": {
        "id": "39MqOGnlOhOg"
      },
      "source": [
        "data_dict={'Day 1': [30,40,50,20,15,60], 'Day 2': [40,50,20,15,60,70], \n",
        "           'Day 3':[50,20,15,60,70,50], 'Target':[20,15,60,70,50,40]}"
      ],
      "execution_count": null,
      "outputs": []
    },
    {
      "cell_type": "code",
      "metadata": {
        "id": "gFowsTaARG3w"
      },
      "source": [
        "data=pd.DataFrame(data_dict)"
      ],
      "execution_count": null,
      "outputs": []
    },
    {
      "cell_type": "code",
      "metadata": {
        "colab": {
          "base_uri": "https://localhost:8080/",
          "height": 238
        },
        "id": "qgh3E9bmSpyz",
        "outputId": "0e2b1459-2c63-4bf1-a8cc-9a23e5bd4378"
      },
      "source": [
        "data"
      ],
      "execution_count": null,
      "outputs": [
        {
          "output_type": "execute_result",
          "data": {
            "text/html": [
              "<div>\n",
              "<style scoped>\n",
              "    .dataframe tbody tr th:only-of-type {\n",
              "        vertical-align: middle;\n",
              "    }\n",
              "\n",
              "    .dataframe tbody tr th {\n",
              "        vertical-align: top;\n",
              "    }\n",
              "\n",
              "    .dataframe thead th {\n",
              "        text-align: right;\n",
              "    }\n",
              "</style>\n",
              "<table border=\"1\" class=\"dataframe\">\n",
              "  <thead>\n",
              "    <tr style=\"text-align: right;\">\n",
              "      <th></th>\n",
              "      <th>Day 1</th>\n",
              "      <th>Day 2</th>\n",
              "      <th>Day 3</th>\n",
              "      <th>Target</th>\n",
              "    </tr>\n",
              "  </thead>\n",
              "  <tbody>\n",
              "    <tr>\n",
              "      <th>0</th>\n",
              "      <td>30</td>\n",
              "      <td>40</td>\n",
              "      <td>50</td>\n",
              "      <td>20</td>\n",
              "    </tr>\n",
              "    <tr>\n",
              "      <th>1</th>\n",
              "      <td>40</td>\n",
              "      <td>50</td>\n",
              "      <td>20</td>\n",
              "      <td>15</td>\n",
              "    </tr>\n",
              "    <tr>\n",
              "      <th>2</th>\n",
              "      <td>50</td>\n",
              "      <td>20</td>\n",
              "      <td>15</td>\n",
              "      <td>60</td>\n",
              "    </tr>\n",
              "    <tr>\n",
              "      <th>3</th>\n",
              "      <td>20</td>\n",
              "      <td>15</td>\n",
              "      <td>60</td>\n",
              "      <td>70</td>\n",
              "    </tr>\n",
              "    <tr>\n",
              "      <th>4</th>\n",
              "      <td>15</td>\n",
              "      <td>60</td>\n",
              "      <td>70</td>\n",
              "      <td>50</td>\n",
              "    </tr>\n",
              "    <tr>\n",
              "      <th>5</th>\n",
              "      <td>60</td>\n",
              "      <td>70</td>\n",
              "      <td>50</td>\n",
              "      <td>40</td>\n",
              "    </tr>\n",
              "  </tbody>\n",
              "</table>\n",
              "</div>"
            ],
            "text/plain": [
              "   Day 1  Day 2  Day 3  Target\n",
              "0     30     40     50      20\n",
              "1     40     50     20      15\n",
              "2     50     20     15      60\n",
              "3     20     15     60      70\n",
              "4     15     60     70      50\n",
              "5     60     70     50      40"
            ]
          },
          "metadata": {},
          "execution_count": 372
        }
      ]
    },
    {
      "cell_type": "code",
      "metadata": {
        "id": "1VktkbwIR90N"
      },
      "source": [
        "X=data.drop('Target',axis=1)\n",
        "y=data['Target']"
      ],
      "execution_count": null,
      "outputs": []
    },
    {
      "cell_type": "code",
      "metadata": {
        "id": "FUTL5ECWSNFm"
      },
      "source": [
        "X_trans=Normalizer(norm='max').fit_transform(X)"
      ],
      "execution_count": null,
      "outputs": []
    },
    {
      "cell_type": "code",
      "metadata": {
        "colab": {
          "base_uri": "https://localhost:8080/"
        },
        "id": "qHulgwB8Su-7",
        "outputId": "eb6f1cf4-ccd1-4ecf-aaf4-e2790f4687e7"
      },
      "source": [
        "np.reshape(array(y),(1,-1))\n",
        "array([[20,15,60,70,50,40]])"
      ],
      "execution_count": null,
      "outputs": [
        {
          "output_type": "execute_result",
          "data": {
            "text/plain": [
              "array([[20, 15, 60, 70, 50, 40]])"
            ]
          },
          "metadata": {},
          "execution_count": 375
        }
      ]
    },
    {
      "cell_type": "code",
      "metadata": {
        "id": "4Ztoi8AjS_Kl"
      },
      "source": [
        "y=Normalizer(norm='max').fit_transform(np.reshape(array(y),(1,-1)))"
      ],
      "execution_count": null,
      "outputs": []
    },
    {
      "cell_type": "code",
      "metadata": {
        "colab": {
          "base_uri": "https://localhost:8080/"
        },
        "id": "I6tMszHLUfNq",
        "outputId": "01fb6b25-14f9-41e5-e71c-822547adce1a"
      },
      "source": [
        "y"
      ],
      "execution_count": null,
      "outputs": [
        {
          "output_type": "execute_result",
          "data": {
            "text/plain": [
              "array([[0.28571429, 0.21428571, 0.85714286, 1.        , 0.71428571,\n",
              "        0.57142857]])"
            ]
          },
          "metadata": {},
          "execution_count": 377
        }
      ]
    },
    {
      "cell_type": "code",
      "metadata": {
        "colab": {
          "base_uri": "https://localhost:8080/"
        },
        "id": "FKJClImUUjjj",
        "outputId": "6d365c6a-52df-45a2-c242-0f0b8bbba896"
      },
      "source": [
        "X_trans"
      ],
      "execution_count": null,
      "outputs": [
        {
          "output_type": "execute_result",
          "data": {
            "text/plain": [
              "array([[0.6       , 0.8       , 1.        ],\n",
              "       [0.8       , 1.        , 0.4       ],\n",
              "       [1.        , 0.4       , 0.3       ],\n",
              "       [0.33333333, 0.25      , 1.        ],\n",
              "       [0.21428571, 0.85714286, 1.        ],\n",
              "       [0.85714286, 1.        , 0.71428571]])"
            ]
          },
          "metadata": {},
          "execution_count": 378
        }
      ]
    },
    {
      "cell_type": "markdown",
      "metadata": {
        "id": "5EAWP9hqUwgf"
      },
      "source": [
        "ANN Model from Scratch"
      ]
    },
    {
      "cell_type": "code",
      "metadata": {
        "colab": {
          "base_uri": "https://localhost:8080/"
        },
        "id": "ClyWFf5cWNsW",
        "outputId": "5c4bc15b-6d1d-43b2-fa49-b3ad9951f05b"
      },
      "source": [
        "X_trans.shape"
      ],
      "execution_count": null,
      "outputs": [
        {
          "output_type": "execute_result",
          "data": {
            "text/plain": [
              "(6, 3)"
            ]
          },
          "metadata": {},
          "execution_count": 379
        }
      ]
    },
    {
      "cell_type": "code",
      "metadata": {
        "id": "ucF8CiEWU12D"
      },
      "source": [
        "#form weight matrixes\n",
        "#weight_1=array([[.2,.1],[.3,.1],[.2,.1]])\n",
        "#weight_2=array([[.5],[.1]])"
      ],
      "execution_count": null,
      "outputs": []
    },
    {
      "cell_type": "code",
      "metadata": {
        "id": "uJQ5LEDVE70o"
      },
      "source": [
        " weight_1=uniform(-1,1,(3,2))\n",
        "weight_2=uniform(-1,1,(2,1))"
      ],
      "execution_count": null,
      "outputs": []
    },
    {
      "cell_type": "code",
      "source": [
        "weight_1"
      ],
      "metadata": {
        "id": "5ILa1JKUzFx1",
        "outputId": "e2b98254-7ea4-404a-c780-a6ca6558daf1",
        "colab": {
          "base_uri": "https://localhost:8080/"
        }
      },
      "execution_count": null,
      "outputs": [
        {
          "output_type": "execute_result",
          "data": {
            "text/plain": [
              "array([[ 0.41989292,  0.6217181 ],\n",
              "       [-0.08271472, -0.64648719],\n",
              "       [ 0.97382056,  0.71354281]])"
            ]
          },
          "metadata": {},
          "execution_count": 382
        }
      ]
    },
    {
      "cell_type": "code",
      "metadata": {
        "colab": {
          "base_uri": "https://localhost:8080/"
        },
        "id": "_bGnJT-NGu3y",
        "outputId": "ba9c7494-6f21-4733-f2ac-18f52bb113ad"
      },
      "source": [
        "weight_2"
      ],
      "execution_count": null,
      "outputs": [
        {
          "output_type": "execute_result",
          "data": {
            "text/plain": [
              "array([[-0.28225475],\n",
              "       [ 0.68687119]])"
            ]
          },
          "metadata": {},
          "execution_count": 383
        }
      ]
    },
    {
      "cell_type": "code",
      "metadata": {
        "id": "TpdKn0psVoq2"
      },
      "source": [
        "X=X_trans"
      ],
      "execution_count": null,
      "outputs": []
    },
    {
      "cell_type": "code",
      "metadata": {
        "colab": {
          "base_uri": "https://localhost:8080/"
        },
        "id": "o1WCk_fuVzXk",
        "outputId": "dc045bf3-f4ab-4a1e-c6e7-7794b01557b5"
      },
      "source": [
        "X[0:batch_size]"
      ],
      "execution_count": null,
      "outputs": [
        {
          "output_type": "execute_result",
          "data": {
            "text/plain": [
              "array([[0.6       , 0.8       , 1.        ],\n",
              "       [0.8       , 1.        , 0.4       ],\n",
              "       [1.        , 0.4       , 0.3       ],\n",
              "       [0.33333333, 0.25      , 1.        ],\n",
              "       [0.21428571, 0.85714286, 1.        ],\n",
              "       [0.85714286, 1.        , 0.71428571]])"
            ]
          },
          "metadata": {},
          "execution_count": 385
        }
      ]
    },
    {
      "cell_type": "code",
      "metadata": {
        "colab": {
          "base_uri": "https://localhost:8080/"
        },
        "id": "hQQNdKPcV2C8",
        "outputId": "cbba78b9-28dd-419b-8111-a521d1a605af"
      },
      "source": [
        "X[0:batch_size].shape #shape of matrix"
      ],
      "execution_count": null,
      "outputs": [
        {
          "output_type": "execute_result",
          "data": {
            "text/plain": [
              "(6, 3)"
            ]
          },
          "metadata": {},
          "execution_count": 386
        }
      ]
    },
    {
      "cell_type": "code",
      "metadata": {
        "id": "yUWaPGR5WAcN"
      },
      "source": [
        "output_1=X[0:batch_size]@weight_1 #multiply matrix"
      ],
      "execution_count": null,
      "outputs": []
    },
    {
      "cell_type": "code",
      "metadata": {
        "colab": {
          "base_uri": "https://localhost:8080/"
        },
        "id": "rXjZ3ZX3WHVB",
        "outputId": "4612d5ff-4ccf-40cf-99e9-1f4da2fb02ec"
      },
      "source": [
        "output_1 "
      ],
      "execution_count": null,
      "outputs": [
        {
          "output_type": "execute_result",
          "data": {
            "text/plain": [
              "array([[1.15958453, 0.56938392],\n",
              "       [0.64272784, 0.13630442],\n",
              "       [0.6789532 , 0.57718607],\n",
              "       [1.09310618, 0.75916038],\n",
              "       [0.99289928, 0.29263624],\n",
              "       [0.97277961, 0.39608748]])"
            ]
          },
          "metadata": {},
          "execution_count": 388
        }
      ]
    },
    {
      "cell_type": "code",
      "metadata": {
        "colab": {
          "base_uri": "https://localhost:8080/"
        },
        "id": "U-fMr40NXA43",
        "outputId": "76577ce5-47d7-41f0-9ecf-8b821c00085c"
      },
      "source": [
        "act_output_1=sigmoid(output_1).numpy() #activation fn\n",
        "act_output_1"
      ],
      "execution_count": null,
      "outputs": [
        {
          "output_type": "execute_result",
          "data": {
            "text/plain": [
              "array([[0.76125721, 0.63862101],\n",
              "       [0.65536983, 0.53402344],\n",
              "       [0.66350502, 0.64041966],\n",
              "       [0.74896618, 0.68117142],\n",
              "       [0.7296602 , 0.57264141],\n",
              "       [0.72567319, 0.59774727]])"
            ]
          },
          "metadata": {},
          "execution_count": 389
        }
      ]
    },
    {
      "cell_type": "code",
      "source": [
        "act_output_1.shape"
      ],
      "metadata": {
        "colab": {
          "base_uri": "https://localhost:8080/"
        },
        "id": "06sb17KGC8C6",
        "outputId": "ef3ebb3f-c01b-40e8-a384-69ac0a3a10a9"
      },
      "execution_count": null,
      "outputs": [
        {
          "output_type": "execute_result",
          "data": {
            "text/plain": [
              "(6, 2)"
            ]
          },
          "metadata": {},
          "execution_count": 390
        }
      ]
    },
    {
      "cell_type": "code",
      "source": [
        "actual_output = act_output_1.T"
      ],
      "metadata": {
        "id": "RX1VN8k8DGqL"
      },
      "execution_count": null,
      "outputs": []
    },
    {
      "cell_type": "code",
      "source": [
        "actual_output.shape"
      ],
      "metadata": {
        "colab": {
          "base_uri": "https://localhost:8080/"
        },
        "id": "d7Hn79kCDKgR",
        "outputId": "d883b4e7-3aa8-4185-d698-e031f834e7af"
      },
      "execution_count": null,
      "outputs": [
        {
          "output_type": "execute_result",
          "data": {
            "text/plain": [
              "(2, 6)"
            ]
          },
          "metadata": {},
          "execution_count": 392
        }
      ]
    },
    {
      "cell_type": "code",
      "metadata": {
        "colab": {
          "base_uri": "https://localhost:8080/"
        },
        "id": "VN2L4X4bDO5N",
        "outputId": "64506016-3c71-4e5f-d142-c6f602a66b30"
      },
      "source": [
        "final_output=act_output_1@weight_2\n",
        "final_output #output at k day 0 to day 5"
      ],
      "execution_count": null,
      "outputs": [
        {
          "output_type": "execute_result",
          "data": {
            "text/plain": [
              "array([[0.22378191],\n",
              "       [0.18182407],\n",
              "       [0.25260838],\n",
              "       [0.25647776],\n",
              "       [0.18738083],\n",
              "       [0.20575068]])"
            ]
          },
          "metadata": {},
          "execution_count": 393
        }
      ]
    },
    {
      "cell_type": "code",
      "source": [
        "final_output.shape"
      ],
      "metadata": {
        "colab": {
          "base_uri": "https://localhost:8080/"
        },
        "id": "LyhRjktKDAuI",
        "outputId": "3a78b7ee-dfdc-4a35-f9ad-8a5c2f60d86f"
      },
      "execution_count": null,
      "outputs": [
        {
          "output_type": "execute_result",
          "data": {
            "text/plain": [
              "(6, 1)"
            ]
          },
          "metadata": {},
          "execution_count": 394
        }
      ]
    },
    {
      "cell_type": "code",
      "source": [
        ""
      ],
      "metadata": {
        "id": "8yY0CuGuDFbL"
      },
      "execution_count": null,
      "outputs": []
    },
    {
      "cell_type": "code",
      "metadata": {
        "id": "i_eDtUMUEl8d"
      },
      "source": [
        "y_true=y[0][0:batch_size] # y = target\n",
        "y_pred=final_output.T[0] #t = transpose"
      ],
      "execution_count": null,
      "outputs": []
    },
    {
      "cell_type": "code",
      "metadata": {
        "colab": {
          "base_uri": "https://localhost:8080/"
        },
        "id": "S6eCd_iwIcKU",
        "outputId": "20084961-9dcc-4956-a0e8-fd8e6c1c9bdc"
      },
      "source": [
        "y_true #true target values"
      ],
      "execution_count": null,
      "outputs": [
        {
          "output_type": "execute_result",
          "data": {
            "text/plain": [
              "array([0.28571429, 0.21428571, 0.85714286, 1.        , 0.71428571,\n",
              "       0.57142857])"
            ]
          },
          "metadata": {},
          "execution_count": 396
        }
      ]
    },
    {
      "cell_type": "code",
      "metadata": {
        "colab": {
          "base_uri": "https://localhost:8080/"
        },
        "id": "HBkm4ZtJD4oV",
        "outputId": "a51432e1-0034-44c1-99cd-566ef6ebe429"
      },
      "source": [
        "y_pred # predicted target"
      ],
      "execution_count": null,
      "outputs": [
        {
          "output_type": "execute_result",
          "data": {
            "text/plain": [
              "array([0.22378191, 0.18182407, 0.25260838, 0.25647776, 0.18738083,\n",
              "       0.20575068])"
            ]
          },
          "metadata": {},
          "execution_count": 397
        }
      ]
    },
    {
      "cell_type": "markdown",
      "metadata": {
        "id": "A4IhpLD5I21-"
      },
      "source": [
        "above was foward propagation"
      ]
    },
    {
      "cell_type": "markdown",
      "metadata": {
        "id": "JEkbZQmII7aD"
      },
      "source": [
        "compute mean squared error"
      ]
    },
    {
      "cell_type": "code",
      "metadata": {
        "colab": {
          "base_uri": "https://localhost:8080/"
        },
        "id": "2PLUDA68I1dg",
        "outputId": "0066b30f-752c-4d6b-e831-3eee265f52c2"
      },
      "source": [
        "error_K = mse(y_true,y_pred).numpy()\n",
        "error_K"
      ],
      "execution_count": null,
      "outputs": [
        {
          "output_type": "execute_result",
          "data": {
            "text/plain": [
              "0.22242095272121024"
            ]
          },
          "metadata": {},
          "execution_count": 398
        }
      ]
    },
    {
      "cell_type": "markdown",
      "source": [
        "Back propagation"
      ],
      "metadata": {
        "id": "wehH_sWL2yjl"
      }
    },
    {
      "cell_type": "code",
      "source": [
        "#calculate error (k) = 𝒚-hat(𝒚) ∗ hat(𝒚)(𝟏-hat(y))\n",
        "error_k = y_true - y_pred * (y_pred * (1 - y_pred ))\n",
        "error_k"
      ],
      "metadata": {
        "colab": {
          "base_uri": "https://localhost:8080/"
        },
        "id": "NnibQYPi20q_",
        "outputId": "e6c83dfc-00a7-4aca-ddbb-0097ee5b7327"
      },
      "execution_count": null,
      "outputs": [
        {
          "output_type": "execute_result",
          "data": {
            "text/plain": [
              "array([0.24684257, 0.18723682, 0.80945106, 0.95109048, 0.68575338,\n",
              "       0.53780534])"
            ]
          },
          "metadata": {},
          "execution_count": 399
        }
      ]
    },
    {
      "cell_type": "code",
      "source": [
        "error_j = error_k * weight_2[1]  * (actual_output[1]*(1-actual_output[1])) \n",
        "error_j"
      ],
      "metadata": {
        "colab": {
          "base_uri": "https://localhost:8080/"
        },
        "id": "sjuI7W0B_g9a",
        "outputId": "e3c5bbb1-7621-41f7-f49a-90cda45d44e6"
      },
      "execution_count": null,
      "outputs": [
        {
          "output_type": "execute_result",
          "data": {
            "text/plain": [
              "array([0.03912924, 0.03200302, 0.12803435, 0.14187661, 0.11527057,\n",
              "       0.08882128])"
            ]
          },
          "metadata": {},
          "execution_count": 400
        }
      ]
    },
    {
      "cell_type": "code",
      "source": [
        "error_i = error_k * weight_2[0] * (actual_output[0]*(1-actual_output[0])) \n",
        "error_i"
      ],
      "metadata": {
        "colab": {
          "base_uri": "https://localhost:8080/"
        },
        "id": "EDV10pTGDtOT",
        "outputId": "fe27de8b-f4d5-414d-a665-678ce6986132"
      },
      "execution_count": null,
      "outputs": [
        {
          "output_type": "execute_result",
          "data": {
            "text/plain": [
              "array([-0.0126626 , -0.01193637, -0.05100992, -0.05047282, -0.03818035,\n",
              "       -0.0302187 ])"
            ]
          },
          "metadata": {},
          "execution_count": 401
        }
      ]
    },
    {
      "cell_type": "markdown",
      "source": [
        "Delta rule"
      ],
      "metadata": {
        "id": "Pv2VxJpVEXFe"
      }
    },
    {
      "cell_type": "code",
      "source": [
        "epochs = 100\n",
        "for ep in range(100):\n",
        " learning_rate = 0.3\n",
        "new_jk = weight_2[1] + ( learning_rate * error_k * y_pred )\n",
        "\n",
        "new_ik = weight_2[0] + ( learning_rate * error_k * y_pred )\n"
      ],
      "metadata": {
        "id": "saW7-UG6EZZf"
      },
      "execution_count": null,
      "outputs": []
    }
  ]
}